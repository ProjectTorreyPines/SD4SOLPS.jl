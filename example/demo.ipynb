{
 "cells": [
  {
   "cell_type": "code",
   "execution_count": null,
   "metadata": {},
   "outputs": [],
   "source": [
    "using Pkg;\n",
    "Pkg.activate(\"./\")\n",
    "Pkg.instantiate()"
   ]
  },
  {
   "cell_type": "markdown",
   "metadata": {},
   "source": [
    "# Loading SOLPS output into IMAS data structure"
   ]
  },
  {
   "cell_type": "code",
   "execution_count": null,
   "metadata": {},
   "outputs": [],
   "source": [
    "using SOLPS2IMAS: SOLPS2IMAS"
   ]
  },
  {
   "cell_type": "code",
   "execution_count": null,
   "metadata": {},
   "outputs": [],
   "source": [
    "b2gmtry = \"../sample/ITER_Lore_2296_00000/baserun/b2fgmtry\"\n",
    "b2output = \"../sample/ITER_Lore_2296_00000/run_time_dep_EIRENE_jdl_to_ss_cont_sine2_2d_output/b2time.nc\"\n",
    "b2mn = \"../sample/ITER_Lore_2296_00000/run_time_dep_EIRENE_jdl_to_ss_cont_sine2_2d_output/b2mn.dat\"\n",
    "fort = (\n",
    "    \"../sample/ITER_Lore_2296_00000/baserun/fort.33\",\n",
    "    \"../sample/ITER_Lore_2296_00000/baserun/fort.34\",\n",
    "    \"../sample/ITER_Lore_2296_00000/baserun/fort.35\",\n",
    "    )"
   ]
  },
  {
   "cell_type": "code",
   "execution_count": null,
   "metadata": {},
   "outputs": [],
   "source": [
    "ids = SOLPS2IMAS.solps2imas(b2gmtry, b2output; b2mn=b2mn, fort=fort);"
   ]
  },
  {
   "cell_type": "markdown",
   "metadata": {},
   "source": [
    "# Visualising some properties"
   ]
  },
  {
   "cell_type": "code",
   "execution_count": null,
   "metadata": {},
   "outputs": [],
   "source": [
    "using GGDUtils: GGDUtils\n",
    "using Plots"
   ]
  },
  {
   "cell_type": "markdown",
   "metadata": {},
   "source": [
    "IMAS ids store mesh information for edge profiles in grid_ggd. There are options to have multiple space representaions but typically you will have only one space describing the SOLPS mesh"
   ]
  },
  {
   "cell_type": "code",
   "execution_count": null,
   "metadata": {},
   "outputs": [],
   "source": [
    "grid_ggd = ids.edge_profiles.grid_ggd[1]; # First grid_ggd time slice. It is allowed to vary in time\n",
    "space = grid_ggd.space[1]; # First space in this grid_ggd"
   ]
  },
  {
   "cell_type": "markdown",
   "metadata": {},
   "source": [
    "### Plotting grid and subsets"
   ]
  },
  {
   "cell_type": "code",
   "execution_count": null,
   "metadata": {},
   "outputs": [],
   "source": [
    "# Choose backend\n",
    "gr()           # Fast and can save pdf\n",
    "# plotlyjs()   # Use for interactive plot, can only save png\n",
    "\n",
    "plot(space) # Simply plot the grid described in space, all common arguments to plot can be given here\n",
    "\n",
    "# You can overlay any subset by giving a second argument\n",
    "# Labels\n",
    "plot!(space, GGDUtils.get_grid_subset(grid_ggd, \"x_points\"), markercolor=:chocolate1, label=\"X-point\")\n",
    "plot!(space, GGDUtils.get_grid_subset(grid_ggd, \"core_cut\"), linecolor=:red, linewidth=2, label=\"Core Cut\")\n",
    "plot!(space, GGDUtils.get_grid_subset(grid_ggd, \"PFR_cut\"), linecolor=:darkred, linewidth=2, label=\"PFR Cut\")\n",
    "plot!(space, GGDUtils.get_grid_subset(grid_ggd, \"outer_throat\"), linecolor=:limegreen, linewidth=2, label=\"Outer Throat\")\n",
    "plot!(space, GGDUtils.get_grid_subset(grid_ggd, \"inner_throat\"), linecolor=:darkgreen, linewidth=2, label=\"Inner Throat\")\n",
    "plot!(space, GGDUtils.get_grid_subset(grid_ggd, \"outer_midplane\"), linecolor=:cyan, linewidth=2, label=\"Outer midplane\")\n",
    "# plot!(space, GGDUtils.get_grid_subset(grid_ggd, \"inner_midplane\"), linecolor=:teal, linewidth=2, label=\"Inner midplane\")\n",
    "plot!(space, GGDUtils.get_grid_subset(grid_ggd, \"outer_target\"), linecolor=:royalblue1, linewidth=2, label=\"Outer target\")\n",
    "plot!(space, GGDUtils.get_grid_subset(grid_ggd, \"inner_target\"), linecolor=:navyblue, linewidth=2, label=\"Inner target\")\n",
    "plot!(space, GGDUtils.get_grid_subset(grid_ggd, \"core_boundary\"), linecolor=:fuchsia, linewidth=2, linestyle=:dash, label=\"Core boundary\")\n",
    "plot!(space, GGDUtils.get_grid_subset(grid_ggd, \"separatrix\"), linecolor=:purple4, linewidth=2, linestyle=:dash, label=\"Separatrix\")\n",
    "plot!(space, GGDUtils.get_grid_subset(grid_ggd, 101), markershape=:rect, markercolor=:royalblue1)\n",
    "# plot!(space, GGDUtils.get_grid_subset(grid_ggd, 102), markershape=:rect, markercolor=:maroon)\n",
    "plot!(space, GGDUtils.get_grid_subset(grid_ggd, 103), markershape=:diamond, markercolor=:fuchsia)\n",
    "plot!(space, GGDUtils.get_grid_subset(grid_ggd, 104), markershape=:diamond, markercolor=:purple4)\n",
    "\n",
    "# Legend is supressed unless asked for specifically\n",
    "plot!(legend=true, left_margin=10Plots.pt)\n",
    "# Default labels are subset.identifier.name but can be changed by providing a label argument\n"
   ]
  },
  {
   "cell_type": "markdown",
   "metadata": {},
   "source": [
    "### Plotting 2D quantities as heatmaps"
   ]
  },
  {
   "cell_type": "code",
   "execution_count": null,
   "metadata": {},
   "outputs": [],
   "source": [
    "# Choose backend\n",
    "gr()           # Fast and can save pdf\n",
    "# plotlyjs()   # Use for interactive plot, can only save png\n",
    "\n",
    "n_e = GGDUtils.get_prop_with_grid_subset_index(ids.edge_profiles.ggd[1].electrons.density, -5)\n",
    "plot(ids.edge_profiles.grid_ggd, n_e, colorbar_title=\"Electrons density / m^(-3)\",\n",
    "     left_margin=10Plots.pt)"
   ]
  },
  {
   "cell_type": "markdown",
   "metadata": {},
   "source": [
    "You can overlap any grid on top of a quantity"
   ]
  },
  {
   "cell_type": "code",
   "execution_count": null,
   "metadata": {},
   "outputs": [],
   "source": [
    "\n",
    "# Choose backend\n",
    "gr()           # Fast and can save pdf\n",
    "# plotlyjs()   # Use for interactive plot, can only save png\n",
    "\n",
    "plot(ids.edge_profiles.grid_ggd, n_e) # Note default label in colorbar\n",
    "plot!(space, GGDUtils.get_grid_subset(grid_ggd, 16), linecolor=:black, linewidth=2,\n",
    "      linestyle=:solid, label=\"Separatix\", legend=true, left_margin=10Plots.pt)"
   ]
  },
  {
   "cell_type": "markdown",
   "metadata": {},
   "source": [
    "# Adding equilibrium data"
   ]
  },
  {
   "cell_type": "code",
   "execution_count": null,
   "metadata": {},
   "outputs": [],
   "source": [
    "import SD4SOLPS: SD4SOLPS"
   ]
  },
  {
   "cell_type": "code",
   "execution_count": null,
   "metadata": {},
   "outputs": [],
   "source": [
    "eqdsk = \"../sample/ITER_Lore_2296_00000/EQDSK/g002296.00200\"\n",
    "SD4SOLPS.geqdsk_to_imas!(eqdsk, ids; set_time=0.2)"
   ]
  },
  {
   "cell_type": "markdown",
   "metadata": {},
   "source": [
    "### Extrapole core profile"
   ]
  },
  {
   "cell_type": "code",
   "execution_count": null,
   "metadata": {},
   "outputs": [],
   "source": [
    "SD4SOLPS.fill_in_extrapolated_core_profile!(ids, \"electrons.density\"; method=\"simple\", cell_subset_idx=-5)\n",
    "SD4SOLPS.fill_in_extrapolated_core_profile!(ids, \"electrons.temperature\"; method=\"simple\", cell_subset_idx=-5)\n",
    "# ... more profiles here as they become available in b2time"
   ]
  },
  {
   "cell_type": "markdown",
   "metadata": {},
   "source": [
    "# Loading a synthetic diagnostic"
   ]
  },
  {
   "cell_type": "code",
   "execution_count": null,
   "metadata": {},
   "outputs": [],
   "source": [
    "using SynthDiag: SynthDiag"
   ]
  },
  {
   "cell_type": "markdown",
   "metadata": {},
   "source": [
    "### Add interferometer chord details using a json file"
   ]
  },
  {
   "cell_type": "code",
   "execution_count": null,
   "metadata": {},
   "outputs": [],
   "source": [
    "SynthDiag.add_interferometer!(SynthDiag.default_ifo, ids; n_e_gsi=-5);"
   ]
  },
  {
   "cell_type": "markdown",
   "metadata": {},
   "source": [
    "### Plotting the interferometer geometry on top of SOLPS mesh"
   ]
  },
  {
   "cell_type": "code",
   "execution_count": null,
   "metadata": {},
   "outputs": [],
   "source": [
    "# Choose backend\n",
    "gr()           # Fast and can save pdf\n",
    "# plotlyjs()   # Use for interactive plot, can only save png\n",
    "\n",
    "plot(space)\n",
    "plot!(ids.interferometer) # Default plot_type is :los \n",
    "plot!(legend=true, left_margin=10Plots.pt)"
   ]
  },
  {
   "cell_type": "markdown",
   "metadata": {},
   "source": [
    "You can provide custom length and thickness of mirror to be plotted and linewidth of the laser beams"
   ]
  },
  {
   "cell_type": "code",
   "execution_count": null,
   "metadata": {},
   "outputs": [],
   "source": [
    "# Choose backend\n",
    "gr()           # Fast and can save pdf\n",
    "# plotlyjs()   # Use for interactive plot, can only save png\n",
    "\n",
    "plot(space)\n",
    "plot!(ids.interferometer, mirror_length=0.7, linewidth=4, mirror_thickness=0.2)\n",
    "plot!(legend=true, left_margin = 10Plots.pt)"
   ]
  },
  {
   "cell_type": "markdown",
   "metadata": {},
   "source": [
    "Or you can choose to omit the mirror"
   ]
  },
  {
   "cell_type": "code",
   "execution_count": null,
   "metadata": {},
   "outputs": [],
   "source": [
    "# Choose backend\n",
    "gr()           # Fast and can save pdf\n",
    "# plotlyjs()   # Use for interactive plot, can only save png\n",
    "\n",
    "plot(space)\n",
    "plot!(ids.interferometer, mirror=false)\n",
    "plot!(legend=true, left_margin=10Plots.pt)"
   ]
  },
  {
   "cell_type": "markdown",
   "metadata": {},
   "source": [
    "You can plot a single channel as well. You can override the in-built channel name for the label."
   ]
  },
  {
   "cell_type": "code",
   "execution_count": null,
   "metadata": {},
   "outputs": [],
   "source": [
    "# Choose backend\n",
    "gr()           # Fast and can save pdf\n",
    "# plotlyjs()   # Use for interactive plot, can only save png\n",
    "\n",
    "plot(space)\n",
    "plot!(ids.interferometer.channel[1], label=\"Channel 1\")\n",
    "plot!(legend=true, left_margin=10Plots.pt)"
   ]
  },
  {
   "cell_type": "markdown",
   "metadata": {},
   "source": [
    "### Plotting interferometer data vs time\n",
    "\n",
    " * Use plot_type=:n_e for integrated electron density data\n",
    " * Use plot_type=:n_e_average for averaged electron density data\n"
   ]
  },
  {
   "cell_type": "code",
   "execution_count": null,
   "metadata": {},
   "outputs": [],
   "source": [
    "# Choose backend\n",
    "gr()           # Fast and can save pdf\n",
    "# plotlyjs()   # Use for interactive plot, can only save png\n",
    "\n",
    "plot(ids.interferometer, plot_type=:n_e, left_margin=10Plots.pt)"
   ]
  },
  {
   "cell_type": "code",
   "execution_count": null,
   "metadata": {},
   "outputs": [],
   "source": [
    "# Choose backend\n",
    "gr()           # Fast and can save pdf\n",
    "# plotlyjs()   # Use for interactive plot, can only save png\n",
    "\n",
    "plot(ids.interferometer, plot_type=:n_e_average, left_margin=10Plots.pt)"
   ]
  },
  {
   "cell_type": "markdown",
   "metadata": {},
   "source": [
    "Again, to plot an individual channel, just provide the channel with correct plot_type"
   ]
  },
  {
   "cell_type": "code",
   "execution_count": null,
   "metadata": {},
   "outputs": [],
   "source": [
    "# Choose backend\n",
    "gr()           # Fast and can save pdf\n",
    "# plotlyjs()   # Use for interactive plot, can only save png\n",
    "\n",
    "plot(ids.interferometer.channel[1], plot_type=:n_e_average, left_margin=10Plots.pt)"
   ]
  },
  {
   "cell_type": "markdown",
   "metadata": {},
   "source": [
    "# Load Langmuir Probes\n",
    "\n",
    "Same syntax as interferometer"
   ]
  },
  {
   "cell_type": "code",
   "execution_count": null,
   "metadata": {},
   "outputs": [],
   "source": [
    "SynthDiag.add_langmuir_probes!(SynthDiag.default_lp, ids; n_e_gsi=-5);"
   ]
  },
  {
   "cell_type": "markdown",
   "metadata": {},
   "source": [
    " Data visualization recipes for langmuir probes have not been created yet and might not be created but you can still see them using built in plotting methodsan d knowledgeof IMAS data structure."
   ]
  },
  {
   "cell_type": "code",
   "execution_count": null,
   "metadata": {},
   "outputs": [],
   "source": [
    "gr()           # Fast and can save pdf\n",
    "# plotlyjs()   # Use for interactive plot, can only save png\n",
    "\n",
    "plot(ids.langmuir_probes.embedded[1].time, ids.langmuir_probes.embedded[1].n_e.data, label=ids.langmuir_probes.embedded[1].name)\n",
    "plot!(ylabel=\"Electron density / m^(-3)\", xlabel=\"Time / s\", legend=true, left_margin=10Plots.pt)"
   ]
  }
 ],
 "metadata": {
  "kernelspec": {
   "display_name": "Julia 1.9.2",
   "language": "julia",
   "name": "julia-1.9"
  },
  "language_info": {
   "file_extension": ".jl",
   "mimetype": "application/julia",
   "name": "julia",
   "version": "1.9.2"
  }
 },
 "nbformat": 4,
 "nbformat_minor": 2
}
