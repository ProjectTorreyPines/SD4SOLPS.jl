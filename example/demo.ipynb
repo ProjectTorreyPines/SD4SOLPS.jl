{
 "cells": [
  {
   "cell_type": "code",
   "execution_count": null,
   "metadata": {},
   "outputs": [],
   "source": [
    "using Pkg;\n",
    "Pkg.activate(\"./\")\n",
    "Pkg.instantiate()"
   ]
  },
  {
   "cell_type": "markdown",
   "metadata": {},
   "source": [
    "# Loading SOLPS output into IMAS data structure"
   ]
  },
  {
   "cell_type": "code",
   "execution_count": null,
   "metadata": {},
   "outputs": [],
   "source": [
    "using SOLPS2IMAS: SOLPS2IMAS"
   ]
  },
  {
   "cell_type": "code",
   "execution_count": null,
   "metadata": {},
   "outputs": [],
   "source": [
    "b2gmtry = \"samples/b2fgmtry\"\n",
    "b2output = \"samples/b2time.nc\"\n",
    "b2mn = \"samples/b2mn.dat\""
   ]
  },
  {
   "cell_type": "code",
   "execution_count": null,
   "metadata": {},
   "outputs": [],
   "source": [
    "ids = SOLPS2IMAS.solps2imas(b2gmtry, b2output; b2mn=b2mn)"
   ]
  },
  {
   "cell_type": "markdown",
   "metadata": {},
   "source": [
    "# Visualising some properties"
   ]
  },
  {
   "cell_type": "code",
   "execution_count": null,
   "metadata": {},
   "outputs": [],
   "source": [
    "using GGDUtils: GGDUtils\n",
    "using Plots"
   ]
  },
  {
   "cell_type": "markdown",
   "metadata": {},
   "source": [
    "IMAS ids store mesh information for edge profiles in grid_ggd. There are options to have multiple space representaions but typically you will have only one space describing the SOLPS mesh"
   ]
  },
  {
   "cell_type": "code",
   "execution_count": null,
   "metadata": {},
   "outputs": [],
   "source": [
    "grid_ggd = ids.edge_profiles.grid_ggd[1] # First grid_ggd time slice. It is allowed to vary in time\n",
    "space = grid_ggd.space[1] # First space in this grid_ggd"
   ]
  },
  {
   "cell_type": "markdown",
   "metadata": {},
   "source": [
    "### Plotting grid and subsets"
   ]
  },
  {
   "cell_type": "code",
   "execution_count": null,
   "metadata": {},
   "outputs": [],
   "source": [
    "# Choose backend\n",
    "gr()           # Fast and can save pdf\n",
    "# plotlyjs()   # Use for interactive plot, can only save png\n",
    "\n",
    "plot(space) # Simply plot the grid described in space, all common arguments to plot can be given here\n",
    "\n",
    "# You can overlay any subset by giving a second argument\n",
    "# Labels \n",
    "plot!(space, GGDUtils.get_grid_subset(grid_ggd, 6), markercolor=:chocolate1)\n",
    "plot!(space, GGDUtils.get_grid_subset(grid_ggd, 7), linecolor=:red, linewidth=2)\n",
    "plot!(space, GGDUtils.get_grid_subset(grid_ggd, 8), linecolor=:darkred, linewidth=2)\n",
    "plot!(space, GGDUtils.get_grid_subset(grid_ggd, 9), linecolor=:limegreen, linewidth=2)\n",
    "plot!(space, GGDUtils.get_grid_subset(grid_ggd, 10), linecolor=:darkgreen, linewidth=2)\n",
    "plot!(space, GGDUtils.get_grid_subset(grid_ggd, 11), linecolor=:cyan, linewidth=2)\n",
    "# plot!(space, GGDUtils.get_grid_subset(grid_ggd, 12), linecolor=:teal, linewidth=1)\n",
    "plot!(space, GGDUtils.get_grid_subset(grid_ggd, 13), linecolor=:royalblue1, linewidth=2)\n",
    "plot!(space, GGDUtils.get_grid_subset(grid_ggd, 14), linecolor=:navyblue, linewidth=2)\n",
    "plot!(space, GGDUtils.get_grid_subset(grid_ggd, 15), linecolor=:fuchsia, linewidth=2, linestyle=:dash)\n",
    "plot!(space, GGDUtils.get_grid_subset(grid_ggd, 16), linecolor=:purple4, linewidth=2, linestyle=:dash)\n",
    "plot!(space, GGDUtils.get_grid_subset(grid_ggd, 101), markershape=:rect, markercolor=:royalblue1)\n",
    "# plot!(space, GGDUtils.get_grid_subset(grid_ggd, 102), markershape=:rect, markercolor=:maroon)\n",
    "plot!(space, GGDUtils.get_grid_subset(grid_ggd, 103), markershape=:diamond, markercolor=:fuchsia)\n",
    "plot!(space, GGDUtils.get_grid_subset(grid_ggd, 104), markershape=:diamond, markercolor=:purple4)\n",
    "\n",
    "# Legend is supressed unless asked for specifically\n",
    "plot!(legend=true)\n",
    "# Default labels are subset.identifier.name but can be changed by providing a label argument\n"
   ]
  },
  {
   "cell_type": "markdown",
   "metadata": {},
   "source": [
    "### Plotting 2D quantities as heatmaps"
   ]
  },
  {
   "cell_type": "code",
   "execution_count": null,
   "metadata": {},
   "outputs": [],
   "source": [
    "# Choose backend\n",
    "gr()           # Fast and can save pdf\n",
    "# plotlyjs()   # Use for interactive plot, can only save png\n",
    "\n",
    "n_e = GGDUtils.get_prop_with_grid_subset_index(ids.edge_profiles.ggd[1].electrons.density, 5)\n",
    "plot(ids.edge_profiles.grid_ggd, n_e, colorbar_title=\"Electrons density / m^(-3)\")"
   ]
  },
  {
   "cell_type": "markdown",
   "metadata": {},
   "source": [
    "You can overlap any grid on top of a quantity"
   ]
  },
  {
   "cell_type": "code",
   "execution_count": null,
   "metadata": {},
   "outputs": [],
   "source": [
    "\n",
    "# Choose backend\n",
    "gr()           # Fast and can save pdf\n",
    "# plotlyjs()   # Use for interactive plot, can only save png\n",
    "\n",
    "plot(ids.edge_profiles.grid_ggd, n_e) # Note default label in colorbar\n",
    "plot!(space, GGDUtils.get_grid_subset(grid_ggd, 16), linecolor=:black, linewidth=2, linestyle=:solid, label=\"Separatix\", legend=true)"
   ]
  },
  {
   "cell_type": "markdown",
   "metadata": {},
   "source": [
    "# Adding equilibrium data"
   ]
  },
  {
   "cell_type": "code",
   "execution_count": null,
   "metadata": {},
   "outputs": [],
   "source": [
    "import SD4SOLPS: SD4SOLPS"
   ]
  },
  {
   "cell_type": "code",
   "execution_count": null,
   "metadata": {},
   "outputs": [],
   "source": [
    "eqdsk = \"samples/g002296.00200\"\n",
    "SD4SOLPS.geqdsk_to_imas!(eqdsk, ids)"
   ]
  },
  {
   "cell_type": "markdown",
   "metadata": {},
   "source": [
    "### Extrapole core profile"
   ]
  },
  {
   "cell_type": "code",
   "execution_count": null,
   "metadata": {},
   "outputs": [],
   "source": [
    "SD4SOLPS.fill_in_extrapolated_core_profile!(ids, \"electrons.density\"; method=\"simple\")\n",
    "SD4SOLPS.fill_in_extrapolated_core_profile!(ids, \"electrons.temperature\"; method=\"simple\")\n",
    "# ... more profiles here as they become available in b2time"
   ]
  },
  {
   "cell_type": "markdown",
   "metadata": {},
   "source": [
    "### Extend mesh outside SOLPS mesh to the device wall"
   ]
  },
  {
   "cell_type": "code",
   "execution_count": null,
   "metadata": {},
   "outputs": [],
   "source": [
    "\n",
    "SD4SOLPS.cached_mesh_extension!(ids, eqdsk, b2gmtry)"
   ]
  },
  {
   "cell_type": "markdown",
   "metadata": {},
   "source": [
    "# Loading a synthetic diagnostic"
   ]
  },
  {
   "cell_type": "code",
   "execution_count": null,
   "metadata": {},
   "outputs": [],
   "source": [
    "using SynthDiag: SynthDiag"
   ]
  },
  {
   "cell_type": "markdown",
   "metadata": {},
   "source": [
    "### Add interferometer chord details using a json file"
   ]
  },
  {
   "cell_type": "code",
   "execution_count": null,
   "metadata": {},
   "outputs": [],
   "source": [
    "SynthDiag.add_interferometer!(\"samples/default_interferometer.json\", ids)"
   ]
  },
  {
   "cell_type": "markdown",
   "metadata": {},
   "source": [
    "### Plotting the interferometer geometry on top of SOLPS mesh"
   ]
  },
  {
   "cell_type": "code",
   "execution_count": null,
   "metadata": {},
   "outputs": [],
   "source": [
    "# Choose backend\n",
    "gr()           # Fast and can save pdf\n",
    "# plotlyjs()   # Use for interactive plot, can only save png\n",
    "\n",
    "plot(space)\n",
    "plot!(ids.interferometer) # Default plot_type is :los \n",
    "plot!(legend=true)"
   ]
  },
  {
   "cell_type": "markdown",
   "metadata": {},
   "source": [
    "You can provide custom length and thickness of mirror to be plotted and linewidth of the laser beams"
   ]
  },
  {
   "cell_type": "code",
   "execution_count": null,
   "metadata": {},
   "outputs": [],
   "source": [
    "# Choose backend\n",
    "gr()           # Fast and can save pdf\n",
    "# plotlyjs()   # Use for interactive plot, can only save png\n",
    "\n",
    "plot(space)\n",
    "plot!(ids.interferometer, mirror_length=0.7, linewidth=4, mirror_thickness=0.2)\n",
    "plot!(legend=true)"
   ]
  },
  {
   "cell_type": "markdown",
   "metadata": {},
   "source": [
    "Or you can choose to omit the mirror"
   ]
  },
  {
   "cell_type": "code",
   "execution_count": null,
   "metadata": {},
   "outputs": [],
   "source": [
    "# Choose backend\n",
    "gr()           # Fast and can save pdf\n",
    "# plotlyjs()   # Use for interactive plot, can only save png\n",
    "\n",
    "plot(space)\n",
    "plot!(ids.interferometer, mirror=false)\n",
    "plot!(legend=true)"
   ]
  },
  {
   "cell_type": "markdown",
   "metadata": {},
   "source": [
    "You can plot a single channel as well. You can override the in-built channel name for the label."
   ]
  },
  {
   "cell_type": "code",
   "execution_count": null,
   "metadata": {},
   "outputs": [],
   "source": [
    "# Choose backend\n",
    "gr()           # Fast and can save pdf\n",
    "# plotlyjs()   # Use for interactive plot, can only save png\n",
    "\n",
    "plot(space)\n",
    "plot!(ids.interferometer.channel[1], label=\"Channel 1\")\n",
    "plot!(legend=true)"
   ]
  },
  {
   "cell_type": "markdown",
   "metadata": {},
   "source": [
    "### Plotting interferometer data vs time\n",
    "\n",
    " * Use plot_type=:n_e for integrated electron density data\n",
    " * Use plot_type=:n_e_average for averaged electron density data\n"
   ]
  },
  {
   "cell_type": "code",
   "execution_count": null,
   "metadata": {},
   "outputs": [],
   "source": [
    "# Choose backend\n",
    "gr()           # Fast and can save pdf\n",
    "# plotlyjs()   # Use for interactive plot, can only save png\n",
    "\n",
    "plot(ids.interferometer, plot_type=:n_e)"
   ]
  },
  {
   "cell_type": "code",
   "execution_count": null,
   "metadata": {},
   "outputs": [],
   "source": [
    "# Choose backend\n",
    "gr()           # Fast and can save pdf\n",
    "# plotlyjs()   # Use for interactive plot, can only save png\n",
    "\n",
    "plot(ids.interferometer, plot_type=:n_e_average)"
   ]
  },
  {
   "cell_type": "markdown",
   "metadata": {},
   "source": [
    "Again, to plot an individual channel, just provide the channel with correct plot_type"
   ]
  },
  {
   "cell_type": "code",
   "execution_count": null,
   "metadata": {},
   "outputs": [],
   "source": [
    "# Choose backend\n",
    "gr()           # Fast and can save pdf\n",
    "# plotlyjs()   # Use for interactive plot, can only save png\n",
    "\n",
    "plot(ids.interferometer.channel[1], plot_type=:n_e_average)"
   ]
  },
  {
   "cell_type": "markdown",
   "metadata": {},
   "source": [
    "# Load Langmuir Probes\n",
    "\n",
    "Same syntax as interferometer"
   ]
  },
  {
   "cell_type": "code",
   "execution_count": null,
   "metadata": {},
   "outputs": [],
   "source": [
    "SynthDiag.add_langmuir_probes!(\"samples/default_langmuir_probes.json\", ids)"
   ]
  },
  {
   "cell_type": "markdown",
   "metadata": {},
   "source": [
    " Data visualization recipes for langmuir probes have not been created yet and might not be created but you can still see them using built in plotting methodsan d knowledgeof IMAS data structure."
   ]
  },
  {
   "cell_type": "code",
   "execution_count": null,
   "metadata": {},
   "outputs": [],
   "source": [
    "gr()           # Fast and can save pdf\n",
    "# plotlyjs()   # Use for interactive plot, can only save png\n",
    "\n",
    "plot(ids.langmuir_probes.embedded[1].time, ids.langmuir_probes.embedded[1].n_e.data, label=ids.langmuir_probes.embedded[1].name)\n",
    "plot!(ylabel=\"Electron density / m^(-3)\", xlabel=\"Time / s\", legend=true)"
   ]
  }
 ],
 "metadata": {
  "kernelspec": {
   "display_name": "Julia 1.9.2",
   "language": "julia",
   "name": "julia-1.9"
  },
  "language_info": {
   "file_extension": ".jl",
   "mimetype": "application/julia",
   "name": "julia",
   "version": "1.9.2"
  }
 },
 "nbformat": 4,
 "nbformat_minor": 2
}
